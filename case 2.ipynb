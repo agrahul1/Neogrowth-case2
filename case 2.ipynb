{
 "cells": [
  {
   "cell_type": "code",
   "execution_count": 1,
   "metadata": {},
   "outputs": [],
   "source": [
    "import pandas as pd\n",
    "import numpy as np\n",
    "import datetime\n",
    "import warnings\n",
    "import matplotlib.pyplot as plt\n",
    "import seaborn as sns\n",
    "from sklearn.model_selection import StratifiedKFold\n",
    "import lightgbm as lgb\n",
    "from sklearn.linear_model import LogisticRegression, BayesianRidge\n",
    "from sklearn.tree import DecisionTreeClassifier\n",
    "from sklearn.ensemble import RandomForestClassifier\n",
    "from sklearn.metrics import roc_auc_score\n",
    "warnings.simplefilter(action='ignore')"
   ]
  },
  {
   "cell_type": "code",
   "execution_count": 2,
   "metadata": {},
   "outputs": [],
   "source": [
    "pd.set_option('display.max_columns',500)\n",
    "pd.set_option('display.max_rows',100)\n",
    "np.random.seed(3)\n",
    "%matplotlib inline\n",
    "sns.set()"
   ]
  },
  {
   "cell_type": "code",
   "execution_count": 3,
   "metadata": {},
   "outputs": [
    {
     "data": {
      "text/html": [
       "<div>\n",
       "<style scoped>\n",
       "    .dataframe tbody tr th:only-of-type {\n",
       "        vertical-align: middle;\n",
       "    }\n",
       "\n",
       "    .dataframe tbody tr th {\n",
       "        vertical-align: top;\n",
       "    }\n",
       "\n",
       "    .dataframe thead th {\n",
       "        text-align: right;\n",
       "    }\n",
       "</style>\n",
       "<table border=\"1\" class=\"dataframe\">\n",
       "  <thead>\n",
       "    <tr style=\"text-align: right;\">\n",
       "      <th></th>\n",
       "      <th>UniqueID</th>\n",
       "      <th>disbursed_amount</th>\n",
       "      <th>asset_cost</th>\n",
       "      <th>ltv</th>\n",
       "      <th>branch_id</th>\n",
       "      <th>supplier_id</th>\n",
       "      <th>manufacturer_id</th>\n",
       "      <th>Current_pincode_ID</th>\n",
       "      <th>Date.of.Birth</th>\n",
       "      <th>Employment.Type</th>\n",
       "      <th>DisbursalDate</th>\n",
       "      <th>State_ID</th>\n",
       "      <th>Employee_code_ID</th>\n",
       "      <th>MobileNo_Avl_Flag</th>\n",
       "      <th>Aadhar_flag</th>\n",
       "      <th>PAN_flag</th>\n",
       "      <th>VoterID_flag</th>\n",
       "      <th>Driving_flag</th>\n",
       "      <th>Passport_flag</th>\n",
       "      <th>PERFORM_CNS.SCORE</th>\n",
       "      <th>PERFORM_CNS.SCORE.DESCRIPTION</th>\n",
       "      <th>PRI.NO.OF.ACCTS</th>\n",
       "      <th>PRI.ACTIVE.ACCTS</th>\n",
       "      <th>PRI.OVERDUE.ACCTS</th>\n",
       "      <th>PRI.CURRENT.BALANCE</th>\n",
       "      <th>PRI.SANCTIONED.AMOUNT</th>\n",
       "      <th>PRI.DISBURSED.AMOUNT</th>\n",
       "      <th>SEC.NO.OF.ACCTS</th>\n",
       "      <th>SEC.ACTIVE.ACCTS</th>\n",
       "      <th>SEC.OVERDUE.ACCTS</th>\n",
       "      <th>SEC.CURRENT.BALANCE</th>\n",
       "      <th>SEC.SANCTIONED.AMOUNT</th>\n",
       "      <th>SEC.DISBURSED.AMOUNT</th>\n",
       "      <th>PRIMARY.INSTAL.AMT</th>\n",
       "      <th>SEC.INSTAL.AMT</th>\n",
       "      <th>NEW.ACCTS.IN.LAST.SIX.MONTHS</th>\n",
       "      <th>DELINQUENT.ACCTS.IN.LAST.SIX.MONTHS</th>\n",
       "      <th>AVERAGE.ACCT.AGE</th>\n",
       "      <th>CREDIT.HISTORY.LENGTH</th>\n",
       "      <th>NO.OF_INQUIRIES</th>\n",
       "      <th>loan_default</th>\n",
       "    </tr>\n",
       "  </thead>\n",
       "  <tbody>\n",
       "    <tr>\n",
       "      <th>0</th>\n",
       "      <td>420825</td>\n",
       "      <td>50578</td>\n",
       "      <td>58400</td>\n",
       "      <td>89.55</td>\n",
       "      <td>67</td>\n",
       "      <td>22807</td>\n",
       "      <td>45</td>\n",
       "      <td>1441</td>\n",
       "      <td>01-01-84</td>\n",
       "      <td>Salaried</td>\n",
       "      <td>03-08-18</td>\n",
       "      <td>6</td>\n",
       "      <td>1998</td>\n",
       "      <td>1</td>\n",
       "      <td>1</td>\n",
       "      <td>0</td>\n",
       "      <td>0</td>\n",
       "      <td>0</td>\n",
       "      <td>0</td>\n",
       "      <td>0</td>\n",
       "      <td>No Bureau History Available</td>\n",
       "      <td>0</td>\n",
       "      <td>0</td>\n",
       "      <td>0</td>\n",
       "      <td>0</td>\n",
       "      <td>0</td>\n",
       "      <td>0</td>\n",
       "      <td>0</td>\n",
       "      <td>0</td>\n",
       "      <td>0</td>\n",
       "      <td>0</td>\n",
       "      <td>0</td>\n",
       "      <td>0</td>\n",
       "      <td>0</td>\n",
       "      <td>0</td>\n",
       "      <td>0</td>\n",
       "      <td>0</td>\n",
       "      <td>0yrs 0mon</td>\n",
       "      <td>0yrs 0mon</td>\n",
       "      <td>0</td>\n",
       "      <td>0</td>\n",
       "    </tr>\n",
       "    <tr>\n",
       "      <th>1</th>\n",
       "      <td>537409</td>\n",
       "      <td>47145</td>\n",
       "      <td>65550</td>\n",
       "      <td>73.23</td>\n",
       "      <td>67</td>\n",
       "      <td>22807</td>\n",
       "      <td>45</td>\n",
       "      <td>1502</td>\n",
       "      <td>31-07-85</td>\n",
       "      <td>Self employed</td>\n",
       "      <td>26-09-18</td>\n",
       "      <td>6</td>\n",
       "      <td>1998</td>\n",
       "      <td>1</td>\n",
       "      <td>1</td>\n",
       "      <td>0</td>\n",
       "      <td>0</td>\n",
       "      <td>0</td>\n",
       "      <td>0</td>\n",
       "      <td>598</td>\n",
       "      <td>I-Medium Risk</td>\n",
       "      <td>1</td>\n",
       "      <td>1</td>\n",
       "      <td>1</td>\n",
       "      <td>27600</td>\n",
       "      <td>50200</td>\n",
       "      <td>50200</td>\n",
       "      <td>0</td>\n",
       "      <td>0</td>\n",
       "      <td>0</td>\n",
       "      <td>0</td>\n",
       "      <td>0</td>\n",
       "      <td>0</td>\n",
       "      <td>1991</td>\n",
       "      <td>0</td>\n",
       "      <td>0</td>\n",
       "      <td>1</td>\n",
       "      <td>1yrs 11mon</td>\n",
       "      <td>1yrs 11mon</td>\n",
       "      <td>0</td>\n",
       "      <td>1</td>\n",
       "    </tr>\n",
       "    <tr>\n",
       "      <th>2</th>\n",
       "      <td>417566</td>\n",
       "      <td>53278</td>\n",
       "      <td>61360</td>\n",
       "      <td>89.63</td>\n",
       "      <td>67</td>\n",
       "      <td>22807</td>\n",
       "      <td>45</td>\n",
       "      <td>1497</td>\n",
       "      <td>24-08-85</td>\n",
       "      <td>Self employed</td>\n",
       "      <td>01-08-18</td>\n",
       "      <td>6</td>\n",
       "      <td>1998</td>\n",
       "      <td>1</td>\n",
       "      <td>1</td>\n",
       "      <td>0</td>\n",
       "      <td>0</td>\n",
       "      <td>0</td>\n",
       "      <td>0</td>\n",
       "      <td>0</td>\n",
       "      <td>No Bureau History Available</td>\n",
       "      <td>0</td>\n",
       "      <td>0</td>\n",
       "      <td>0</td>\n",
       "      <td>0</td>\n",
       "      <td>0</td>\n",
       "      <td>0</td>\n",
       "      <td>0</td>\n",
       "      <td>0</td>\n",
       "      <td>0</td>\n",
       "      <td>0</td>\n",
       "      <td>0</td>\n",
       "      <td>0</td>\n",
       "      <td>0</td>\n",
       "      <td>0</td>\n",
       "      <td>0</td>\n",
       "      <td>0</td>\n",
       "      <td>0yrs 0mon</td>\n",
       "      <td>0yrs 0mon</td>\n",
       "      <td>0</td>\n",
       "      <td>0</td>\n",
       "    </tr>\n",
       "    <tr>\n",
       "      <th>3</th>\n",
       "      <td>624493</td>\n",
       "      <td>57513</td>\n",
       "      <td>66113</td>\n",
       "      <td>88.48</td>\n",
       "      <td>67</td>\n",
       "      <td>22807</td>\n",
       "      <td>45</td>\n",
       "      <td>1501</td>\n",
       "      <td>30-12-93</td>\n",
       "      <td>Self employed</td>\n",
       "      <td>26-10-18</td>\n",
       "      <td>6</td>\n",
       "      <td>1998</td>\n",
       "      <td>1</td>\n",
       "      <td>1</td>\n",
       "      <td>0</td>\n",
       "      <td>0</td>\n",
       "      <td>0</td>\n",
       "      <td>0</td>\n",
       "      <td>305</td>\n",
       "      <td>L-Very High Risk</td>\n",
       "      <td>3</td>\n",
       "      <td>0</td>\n",
       "      <td>0</td>\n",
       "      <td>0</td>\n",
       "      <td>0</td>\n",
       "      <td>0</td>\n",
       "      <td>0</td>\n",
       "      <td>0</td>\n",
       "      <td>0</td>\n",
       "      <td>0</td>\n",
       "      <td>0</td>\n",
       "      <td>0</td>\n",
       "      <td>31</td>\n",
       "      <td>0</td>\n",
       "      <td>0</td>\n",
       "      <td>0</td>\n",
       "      <td>0yrs 8mon</td>\n",
       "      <td>1yrs 3mon</td>\n",
       "      <td>1</td>\n",
       "      <td>1</td>\n",
       "    </tr>\n",
       "    <tr>\n",
       "      <th>4</th>\n",
       "      <td>539055</td>\n",
       "      <td>52378</td>\n",
       "      <td>60300</td>\n",
       "      <td>88.39</td>\n",
       "      <td>67</td>\n",
       "      <td>22807</td>\n",
       "      <td>45</td>\n",
       "      <td>1495</td>\n",
       "      <td>09-12-77</td>\n",
       "      <td>Self employed</td>\n",
       "      <td>26-09-18</td>\n",
       "      <td>6</td>\n",
       "      <td>1998</td>\n",
       "      <td>1</td>\n",
       "      <td>1</td>\n",
       "      <td>0</td>\n",
       "      <td>0</td>\n",
       "      <td>0</td>\n",
       "      <td>0</td>\n",
       "      <td>0</td>\n",
       "      <td>No Bureau History Available</td>\n",
       "      <td>0</td>\n",
       "      <td>0</td>\n",
       "      <td>0</td>\n",
       "      <td>0</td>\n",
       "      <td>0</td>\n",
       "      <td>0</td>\n",
       "      <td>0</td>\n",
       "      <td>0</td>\n",
       "      <td>0</td>\n",
       "      <td>0</td>\n",
       "      <td>0</td>\n",
       "      <td>0</td>\n",
       "      <td>0</td>\n",
       "      <td>0</td>\n",
       "      <td>0</td>\n",
       "      <td>0</td>\n",
       "      <td>0yrs 0mon</td>\n",
       "      <td>0yrs 0mon</td>\n",
       "      <td>1</td>\n",
       "      <td>1</td>\n",
       "    </tr>\n",
       "  </tbody>\n",
       "</table>\n",
       "</div>"
      ],
      "text/plain": [
       "   UniqueID  disbursed_amount  asset_cost    ltv  branch_id  supplier_id  \\\n",
       "0    420825             50578       58400  89.55         67        22807   \n",
       "1    537409             47145       65550  73.23         67        22807   \n",
       "2    417566             53278       61360  89.63         67        22807   \n",
       "3    624493             57513       66113  88.48         67        22807   \n",
       "4    539055             52378       60300  88.39         67        22807   \n",
       "\n",
       "   manufacturer_id  Current_pincode_ID Date.of.Birth Employment.Type  \\\n",
       "0               45                1441      01-01-84        Salaried   \n",
       "1               45                1502      31-07-85   Self employed   \n",
       "2               45                1497      24-08-85   Self employed   \n",
       "3               45                1501      30-12-93   Self employed   \n",
       "4               45                1495      09-12-77   Self employed   \n",
       "\n",
       "  DisbursalDate  State_ID  Employee_code_ID  MobileNo_Avl_Flag  Aadhar_flag  \\\n",
       "0      03-08-18         6              1998                  1            1   \n",
       "1      26-09-18         6              1998                  1            1   \n",
       "2      01-08-18         6              1998                  1            1   \n",
       "3      26-10-18         6              1998                  1            1   \n",
       "4      26-09-18         6              1998                  1            1   \n",
       "\n",
       "   PAN_flag  VoterID_flag  Driving_flag  Passport_flag  PERFORM_CNS.SCORE  \\\n",
       "0         0             0             0              0                  0   \n",
       "1         0             0             0              0                598   \n",
       "2         0             0             0              0                  0   \n",
       "3         0             0             0              0                305   \n",
       "4         0             0             0              0                  0   \n",
       "\n",
       "  PERFORM_CNS.SCORE.DESCRIPTION  PRI.NO.OF.ACCTS  PRI.ACTIVE.ACCTS  \\\n",
       "0   No Bureau History Available                0                 0   \n",
       "1                 I-Medium Risk                1                 1   \n",
       "2   No Bureau History Available                0                 0   \n",
       "3              L-Very High Risk                3                 0   \n",
       "4   No Bureau History Available                0                 0   \n",
       "\n",
       "   PRI.OVERDUE.ACCTS  PRI.CURRENT.BALANCE  PRI.SANCTIONED.AMOUNT  \\\n",
       "0                  0                    0                      0   \n",
       "1                  1                27600                  50200   \n",
       "2                  0                    0                      0   \n",
       "3                  0                    0                      0   \n",
       "4                  0                    0                      0   \n",
       "\n",
       "   PRI.DISBURSED.AMOUNT  SEC.NO.OF.ACCTS  SEC.ACTIVE.ACCTS  SEC.OVERDUE.ACCTS  \\\n",
       "0                     0                0                 0                  0   \n",
       "1                 50200                0                 0                  0   \n",
       "2                     0                0                 0                  0   \n",
       "3                     0                0                 0                  0   \n",
       "4                     0                0                 0                  0   \n",
       "\n",
       "   SEC.CURRENT.BALANCE  SEC.SANCTIONED.AMOUNT  SEC.DISBURSED.AMOUNT  \\\n",
       "0                    0                      0                     0   \n",
       "1                    0                      0                     0   \n",
       "2                    0                      0                     0   \n",
       "3                    0                      0                     0   \n",
       "4                    0                      0                     0   \n",
       "\n",
       "   PRIMARY.INSTAL.AMT  SEC.INSTAL.AMT  NEW.ACCTS.IN.LAST.SIX.MONTHS  \\\n",
       "0                   0               0                             0   \n",
       "1                1991               0                             0   \n",
       "2                   0               0                             0   \n",
       "3                  31               0                             0   \n",
       "4                   0               0                             0   \n",
       "\n",
       "   DELINQUENT.ACCTS.IN.LAST.SIX.MONTHS AVERAGE.ACCT.AGE CREDIT.HISTORY.LENGTH  \\\n",
       "0                                    0        0yrs 0mon             0yrs 0mon   \n",
       "1                                    1       1yrs 11mon            1yrs 11mon   \n",
       "2                                    0        0yrs 0mon             0yrs 0mon   \n",
       "3                                    0        0yrs 8mon             1yrs 3mon   \n",
       "4                                    0        0yrs 0mon             0yrs 0mon   \n",
       "\n",
       "   NO.OF_INQUIRIES  loan_default  \n",
       "0                0             0  \n",
       "1                0             1  \n",
       "2                0             0  \n",
       "3                1             1  \n",
       "4                1             1  "
      ]
     },
     "execution_count": 3,
     "metadata": {},
     "output_type": "execute_result"
    }
   ],
   "source": [
    "df = pd.read_csv('case 2 data/train.csv')\n",
    "df.head()"
   ]
  },
  {
   "cell_type": "code",
   "execution_count": 4,
   "metadata": {},
   "outputs": [
    {
     "data": {
      "text/plain": [
       "((233154, 41), Employment.Type    7661\n",
       " dtype: int64)"
      ]
     },
     "execution_count": 4,
     "metadata": {},
     "output_type": "execute_result"
    }
   ],
   "source": [
    "df.shape, df.isna().sum()[df.isna().sum() > 0]"
   ]
  },
  {
   "cell_type": "code",
   "execution_count": 5,
   "metadata": {},
   "outputs": [
    {
     "data": {
      "text/html": [
       "<div>\n",
       "<style scoped>\n",
       "    .dataframe tbody tr th:only-of-type {\n",
       "        vertical-align: middle;\n",
       "    }\n",
       "\n",
       "    .dataframe tbody tr th {\n",
       "        vertical-align: top;\n",
       "    }\n",
       "\n",
       "    .dataframe thead th {\n",
       "        text-align: right;\n",
       "    }\n",
       "</style>\n",
       "<table border=\"1\" class=\"dataframe\">\n",
       "  <thead>\n",
       "    <tr style=\"text-align: right;\">\n",
       "      <th></th>\n",
       "      <th>UniqueID</th>\n",
       "      <th>disbursed_amount</th>\n",
       "      <th>asset_cost</th>\n",
       "      <th>ltv</th>\n",
       "      <th>branch_id</th>\n",
       "      <th>supplier_id</th>\n",
       "      <th>manufacturer_id</th>\n",
       "      <th>Current_pincode_ID</th>\n",
       "      <th>State_ID</th>\n",
       "      <th>Employee_code_ID</th>\n",
       "      <th>MobileNo_Avl_Flag</th>\n",
       "      <th>Aadhar_flag</th>\n",
       "      <th>PAN_flag</th>\n",
       "      <th>VoterID_flag</th>\n",
       "      <th>Driving_flag</th>\n",
       "      <th>Passport_flag</th>\n",
       "      <th>PERFORM_CNS.SCORE</th>\n",
       "      <th>PRI.NO.OF.ACCTS</th>\n",
       "      <th>PRI.ACTIVE.ACCTS</th>\n",
       "      <th>PRI.OVERDUE.ACCTS</th>\n",
       "      <th>PRI.CURRENT.BALANCE</th>\n",
       "      <th>PRI.SANCTIONED.AMOUNT</th>\n",
       "      <th>PRI.DISBURSED.AMOUNT</th>\n",
       "      <th>SEC.NO.OF.ACCTS</th>\n",
       "      <th>SEC.ACTIVE.ACCTS</th>\n",
       "      <th>SEC.OVERDUE.ACCTS</th>\n",
       "      <th>SEC.CURRENT.BALANCE</th>\n",
       "      <th>SEC.SANCTIONED.AMOUNT</th>\n",
       "      <th>SEC.DISBURSED.AMOUNT</th>\n",
       "      <th>PRIMARY.INSTAL.AMT</th>\n",
       "      <th>SEC.INSTAL.AMT</th>\n",
       "      <th>NEW.ACCTS.IN.LAST.SIX.MONTHS</th>\n",
       "      <th>DELINQUENT.ACCTS.IN.LAST.SIX.MONTHS</th>\n",
       "      <th>NO.OF_INQUIRIES</th>\n",
       "      <th>loan_default</th>\n",
       "    </tr>\n",
       "  </thead>\n",
       "  <tbody>\n",
       "    <tr>\n",
       "      <th>count</th>\n",
       "      <td>233154.000000</td>\n",
       "      <td>233154.000000</td>\n",
       "      <td>2.331540e+05</td>\n",
       "      <td>233154.000000</td>\n",
       "      <td>233154.000000</td>\n",
       "      <td>233154.000000</td>\n",
       "      <td>233154.000000</td>\n",
       "      <td>233154.000000</td>\n",
       "      <td>233154.000000</td>\n",
       "      <td>233154.000000</td>\n",
       "      <td>233154.0</td>\n",
       "      <td>233154.00000</td>\n",
       "      <td>233154.000000</td>\n",
       "      <td>233154.000000</td>\n",
       "      <td>233154.000000</td>\n",
       "      <td>233154.000000</td>\n",
       "      <td>233154.000000</td>\n",
       "      <td>233154.000000</td>\n",
       "      <td>233154.000000</td>\n",
       "      <td>233154.000000</td>\n",
       "      <td>2.331540e+05</td>\n",
       "      <td>2.331540e+05</td>\n",
       "      <td>2.331540e+05</td>\n",
       "      <td>233154.000000</td>\n",
       "      <td>233154.000000</td>\n",
       "      <td>233154.000000</td>\n",
       "      <td>2.331540e+05</td>\n",
       "      <td>2.331540e+05</td>\n",
       "      <td>2.331540e+05</td>\n",
       "      <td>2.331540e+05</td>\n",
       "      <td>2.331540e+05</td>\n",
       "      <td>233154.000000</td>\n",
       "      <td>233154.000000</td>\n",
       "      <td>233154.000000</td>\n",
       "      <td>233154.000000</td>\n",
       "    </tr>\n",
       "    <tr>\n",
       "      <th>mean</th>\n",
       "      <td>535917.573376</td>\n",
       "      <td>54356.993528</td>\n",
       "      <td>7.586507e+04</td>\n",
       "      <td>74.746530</td>\n",
       "      <td>72.936094</td>\n",
       "      <td>19638.635035</td>\n",
       "      <td>69.028054</td>\n",
       "      <td>3396.880247</td>\n",
       "      <td>7.262243</td>\n",
       "      <td>1549.477148</td>\n",
       "      <td>1.0</td>\n",
       "      <td>0.84032</td>\n",
       "      <td>0.075577</td>\n",
       "      <td>0.144943</td>\n",
       "      <td>0.023242</td>\n",
       "      <td>0.002127</td>\n",
       "      <td>289.462994</td>\n",
       "      <td>2.440636</td>\n",
       "      <td>1.039896</td>\n",
       "      <td>0.156549</td>\n",
       "      <td>1.659001e+05</td>\n",
       "      <td>2.185039e+05</td>\n",
       "      <td>2.180659e+05</td>\n",
       "      <td>0.059081</td>\n",
       "      <td>0.027703</td>\n",
       "      <td>0.007244</td>\n",
       "      <td>5.427793e+03</td>\n",
       "      <td>7.295923e+03</td>\n",
       "      <td>7.179998e+03</td>\n",
       "      <td>1.310548e+04</td>\n",
       "      <td>3.232684e+02</td>\n",
       "      <td>0.381833</td>\n",
       "      <td>0.097481</td>\n",
       "      <td>0.206615</td>\n",
       "      <td>0.217071</td>\n",
       "    </tr>\n",
       "    <tr>\n",
       "      <th>std</th>\n",
       "      <td>68315.693711</td>\n",
       "      <td>12971.314171</td>\n",
       "      <td>1.894478e+04</td>\n",
       "      <td>11.456636</td>\n",
       "      <td>69.834995</td>\n",
       "      <td>3491.949566</td>\n",
       "      <td>22.141304</td>\n",
       "      <td>2238.147502</td>\n",
       "      <td>4.482230</td>\n",
       "      <td>975.261278</td>\n",
       "      <td>0.0</td>\n",
       "      <td>0.36631</td>\n",
       "      <td>0.264320</td>\n",
       "      <td>0.352044</td>\n",
       "      <td>0.150672</td>\n",
       "      <td>0.046074</td>\n",
       "      <td>338.374779</td>\n",
       "      <td>5.217233</td>\n",
       "      <td>1.941496</td>\n",
       "      <td>0.548787</td>\n",
       "      <td>9.422736e+05</td>\n",
       "      <td>2.374794e+06</td>\n",
       "      <td>2.377744e+06</td>\n",
       "      <td>0.626795</td>\n",
       "      <td>0.316057</td>\n",
       "      <td>0.111079</td>\n",
       "      <td>1.702370e+05</td>\n",
       "      <td>1.831560e+05</td>\n",
       "      <td>1.825925e+05</td>\n",
       "      <td>1.513679e+05</td>\n",
       "      <td>1.555369e+04</td>\n",
       "      <td>0.955107</td>\n",
       "      <td>0.384439</td>\n",
       "      <td>0.706498</td>\n",
       "      <td>0.412252</td>\n",
       "    </tr>\n",
       "    <tr>\n",
       "      <th>min</th>\n",
       "      <td>417428.000000</td>\n",
       "      <td>13320.000000</td>\n",
       "      <td>3.700000e+04</td>\n",
       "      <td>10.030000</td>\n",
       "      <td>1.000000</td>\n",
       "      <td>10524.000000</td>\n",
       "      <td>45.000000</td>\n",
       "      <td>1.000000</td>\n",
       "      <td>1.000000</td>\n",
       "      <td>1.000000</td>\n",
       "      <td>1.0</td>\n",
       "      <td>0.00000</td>\n",
       "      <td>0.000000</td>\n",
       "      <td>0.000000</td>\n",
       "      <td>0.000000</td>\n",
       "      <td>0.000000</td>\n",
       "      <td>0.000000</td>\n",
       "      <td>0.000000</td>\n",
       "      <td>0.000000</td>\n",
       "      <td>0.000000</td>\n",
       "      <td>-6.678296e+06</td>\n",
       "      <td>0.000000e+00</td>\n",
       "      <td>0.000000e+00</td>\n",
       "      <td>0.000000</td>\n",
       "      <td>0.000000</td>\n",
       "      <td>0.000000</td>\n",
       "      <td>-5.746470e+05</td>\n",
       "      <td>0.000000e+00</td>\n",
       "      <td>0.000000e+00</td>\n",
       "      <td>0.000000e+00</td>\n",
       "      <td>0.000000e+00</td>\n",
       "      <td>0.000000</td>\n",
       "      <td>0.000000</td>\n",
       "      <td>0.000000</td>\n",
       "      <td>0.000000</td>\n",
       "    </tr>\n",
       "    <tr>\n",
       "      <th>25%</th>\n",
       "      <td>476786.250000</td>\n",
       "      <td>47145.000000</td>\n",
       "      <td>6.571700e+04</td>\n",
       "      <td>68.880000</td>\n",
       "      <td>14.000000</td>\n",
       "      <td>16535.000000</td>\n",
       "      <td>48.000000</td>\n",
       "      <td>1511.000000</td>\n",
       "      <td>4.000000</td>\n",
       "      <td>713.000000</td>\n",
       "      <td>1.0</td>\n",
       "      <td>1.00000</td>\n",
       "      <td>0.000000</td>\n",
       "      <td>0.000000</td>\n",
       "      <td>0.000000</td>\n",
       "      <td>0.000000</td>\n",
       "      <td>0.000000</td>\n",
       "      <td>0.000000</td>\n",
       "      <td>0.000000</td>\n",
       "      <td>0.000000</td>\n",
       "      <td>0.000000e+00</td>\n",
       "      <td>0.000000e+00</td>\n",
       "      <td>0.000000e+00</td>\n",
       "      <td>0.000000</td>\n",
       "      <td>0.000000</td>\n",
       "      <td>0.000000</td>\n",
       "      <td>0.000000e+00</td>\n",
       "      <td>0.000000e+00</td>\n",
       "      <td>0.000000e+00</td>\n",
       "      <td>0.000000e+00</td>\n",
       "      <td>0.000000e+00</td>\n",
       "      <td>0.000000</td>\n",
       "      <td>0.000000</td>\n",
       "      <td>0.000000</td>\n",
       "      <td>0.000000</td>\n",
       "    </tr>\n",
       "    <tr>\n",
       "      <th>50%</th>\n",
       "      <td>535978.500000</td>\n",
       "      <td>53803.000000</td>\n",
       "      <td>7.094600e+04</td>\n",
       "      <td>76.800000</td>\n",
       "      <td>61.000000</td>\n",
       "      <td>20333.000000</td>\n",
       "      <td>86.000000</td>\n",
       "      <td>2970.000000</td>\n",
       "      <td>6.000000</td>\n",
       "      <td>1451.000000</td>\n",
       "      <td>1.0</td>\n",
       "      <td>1.00000</td>\n",
       "      <td>0.000000</td>\n",
       "      <td>0.000000</td>\n",
       "      <td>0.000000</td>\n",
       "      <td>0.000000</td>\n",
       "      <td>0.000000</td>\n",
       "      <td>0.000000</td>\n",
       "      <td>0.000000</td>\n",
       "      <td>0.000000</td>\n",
       "      <td>0.000000e+00</td>\n",
       "      <td>0.000000e+00</td>\n",
       "      <td>0.000000e+00</td>\n",
       "      <td>0.000000</td>\n",
       "      <td>0.000000</td>\n",
       "      <td>0.000000</td>\n",
       "      <td>0.000000e+00</td>\n",
       "      <td>0.000000e+00</td>\n",
       "      <td>0.000000e+00</td>\n",
       "      <td>0.000000e+00</td>\n",
       "      <td>0.000000e+00</td>\n",
       "      <td>0.000000</td>\n",
       "      <td>0.000000</td>\n",
       "      <td>0.000000</td>\n",
       "      <td>0.000000</td>\n",
       "    </tr>\n",
       "    <tr>\n",
       "      <th>75%</th>\n",
       "      <td>595039.750000</td>\n",
       "      <td>60413.000000</td>\n",
       "      <td>7.920175e+04</td>\n",
       "      <td>83.670000</td>\n",
       "      <td>130.000000</td>\n",
       "      <td>23000.000000</td>\n",
       "      <td>86.000000</td>\n",
       "      <td>5677.000000</td>\n",
       "      <td>10.000000</td>\n",
       "      <td>2362.000000</td>\n",
       "      <td>1.0</td>\n",
       "      <td>1.00000</td>\n",
       "      <td>0.000000</td>\n",
       "      <td>0.000000</td>\n",
       "      <td>0.000000</td>\n",
       "      <td>0.000000</td>\n",
       "      <td>678.000000</td>\n",
       "      <td>3.000000</td>\n",
       "      <td>1.000000</td>\n",
       "      <td>0.000000</td>\n",
       "      <td>3.500650e+04</td>\n",
       "      <td>6.250000e+04</td>\n",
       "      <td>6.080000e+04</td>\n",
       "      <td>0.000000</td>\n",
       "      <td>0.000000</td>\n",
       "      <td>0.000000</td>\n",
       "      <td>0.000000e+00</td>\n",
       "      <td>0.000000e+00</td>\n",
       "      <td>0.000000e+00</td>\n",
       "      <td>1.999000e+03</td>\n",
       "      <td>0.000000e+00</td>\n",
       "      <td>0.000000</td>\n",
       "      <td>0.000000</td>\n",
       "      <td>0.000000</td>\n",
       "      <td>0.000000</td>\n",
       "    </tr>\n",
       "    <tr>\n",
       "      <th>max</th>\n",
       "      <td>671084.000000</td>\n",
       "      <td>990572.000000</td>\n",
       "      <td>1.628992e+06</td>\n",
       "      <td>95.000000</td>\n",
       "      <td>261.000000</td>\n",
       "      <td>24803.000000</td>\n",
       "      <td>156.000000</td>\n",
       "      <td>7345.000000</td>\n",
       "      <td>22.000000</td>\n",
       "      <td>3795.000000</td>\n",
       "      <td>1.0</td>\n",
       "      <td>1.00000</td>\n",
       "      <td>1.000000</td>\n",
       "      <td>1.000000</td>\n",
       "      <td>1.000000</td>\n",
       "      <td>1.000000</td>\n",
       "      <td>890.000000</td>\n",
       "      <td>453.000000</td>\n",
       "      <td>144.000000</td>\n",
       "      <td>25.000000</td>\n",
       "      <td>9.652492e+07</td>\n",
       "      <td>1.000000e+09</td>\n",
       "      <td>1.000000e+09</td>\n",
       "      <td>52.000000</td>\n",
       "      <td>36.000000</td>\n",
       "      <td>8.000000</td>\n",
       "      <td>3.603285e+07</td>\n",
       "      <td>3.000000e+07</td>\n",
       "      <td>3.000000e+07</td>\n",
       "      <td>2.564281e+07</td>\n",
       "      <td>4.170901e+06</td>\n",
       "      <td>35.000000</td>\n",
       "      <td>20.000000</td>\n",
       "      <td>36.000000</td>\n",
       "      <td>1.000000</td>\n",
       "    </tr>\n",
       "  </tbody>\n",
       "</table>\n",
       "</div>"
      ],
      "text/plain": [
       "            UniqueID  disbursed_amount    asset_cost            ltv  \\\n",
       "count  233154.000000     233154.000000  2.331540e+05  233154.000000   \n",
       "mean   535917.573376      54356.993528  7.586507e+04      74.746530   \n",
       "std     68315.693711      12971.314171  1.894478e+04      11.456636   \n",
       "min    417428.000000      13320.000000  3.700000e+04      10.030000   \n",
       "25%    476786.250000      47145.000000  6.571700e+04      68.880000   \n",
       "50%    535978.500000      53803.000000  7.094600e+04      76.800000   \n",
       "75%    595039.750000      60413.000000  7.920175e+04      83.670000   \n",
       "max    671084.000000     990572.000000  1.628992e+06      95.000000   \n",
       "\n",
       "           branch_id    supplier_id  manufacturer_id  Current_pincode_ID  \\\n",
       "count  233154.000000  233154.000000    233154.000000       233154.000000   \n",
       "mean       72.936094   19638.635035        69.028054         3396.880247   \n",
       "std        69.834995    3491.949566        22.141304         2238.147502   \n",
       "min         1.000000   10524.000000        45.000000            1.000000   \n",
       "25%        14.000000   16535.000000        48.000000         1511.000000   \n",
       "50%        61.000000   20333.000000        86.000000         2970.000000   \n",
       "75%       130.000000   23000.000000        86.000000         5677.000000   \n",
       "max       261.000000   24803.000000       156.000000         7345.000000   \n",
       "\n",
       "            State_ID  Employee_code_ID  MobileNo_Avl_Flag   Aadhar_flag  \\\n",
       "count  233154.000000     233154.000000           233154.0  233154.00000   \n",
       "mean        7.262243       1549.477148                1.0       0.84032   \n",
       "std         4.482230        975.261278                0.0       0.36631   \n",
       "min         1.000000          1.000000                1.0       0.00000   \n",
       "25%         4.000000        713.000000                1.0       1.00000   \n",
       "50%         6.000000       1451.000000                1.0       1.00000   \n",
       "75%        10.000000       2362.000000                1.0       1.00000   \n",
       "max        22.000000       3795.000000                1.0       1.00000   \n",
       "\n",
       "            PAN_flag   VoterID_flag   Driving_flag  Passport_flag  \\\n",
       "count  233154.000000  233154.000000  233154.000000  233154.000000   \n",
       "mean        0.075577       0.144943       0.023242       0.002127   \n",
       "std         0.264320       0.352044       0.150672       0.046074   \n",
       "min         0.000000       0.000000       0.000000       0.000000   \n",
       "25%         0.000000       0.000000       0.000000       0.000000   \n",
       "50%         0.000000       0.000000       0.000000       0.000000   \n",
       "75%         0.000000       0.000000       0.000000       0.000000   \n",
       "max         1.000000       1.000000       1.000000       1.000000   \n",
       "\n",
       "       PERFORM_CNS.SCORE  PRI.NO.OF.ACCTS  PRI.ACTIVE.ACCTS  \\\n",
       "count      233154.000000    233154.000000     233154.000000   \n",
       "mean          289.462994         2.440636          1.039896   \n",
       "std           338.374779         5.217233          1.941496   \n",
       "min             0.000000         0.000000          0.000000   \n",
       "25%             0.000000         0.000000          0.000000   \n",
       "50%             0.000000         0.000000          0.000000   \n",
       "75%           678.000000         3.000000          1.000000   \n",
       "max           890.000000       453.000000        144.000000   \n",
       "\n",
       "       PRI.OVERDUE.ACCTS  PRI.CURRENT.BALANCE  PRI.SANCTIONED.AMOUNT  \\\n",
       "count      233154.000000         2.331540e+05           2.331540e+05   \n",
       "mean            0.156549         1.659001e+05           2.185039e+05   \n",
       "std             0.548787         9.422736e+05           2.374794e+06   \n",
       "min             0.000000        -6.678296e+06           0.000000e+00   \n",
       "25%             0.000000         0.000000e+00           0.000000e+00   \n",
       "50%             0.000000         0.000000e+00           0.000000e+00   \n",
       "75%             0.000000         3.500650e+04           6.250000e+04   \n",
       "max            25.000000         9.652492e+07           1.000000e+09   \n",
       "\n",
       "       PRI.DISBURSED.AMOUNT  SEC.NO.OF.ACCTS  SEC.ACTIVE.ACCTS  \\\n",
       "count          2.331540e+05    233154.000000     233154.000000   \n",
       "mean           2.180659e+05         0.059081          0.027703   \n",
       "std            2.377744e+06         0.626795          0.316057   \n",
       "min            0.000000e+00         0.000000          0.000000   \n",
       "25%            0.000000e+00         0.000000          0.000000   \n",
       "50%            0.000000e+00         0.000000          0.000000   \n",
       "75%            6.080000e+04         0.000000          0.000000   \n",
       "max            1.000000e+09        52.000000         36.000000   \n",
       "\n",
       "       SEC.OVERDUE.ACCTS  SEC.CURRENT.BALANCE  SEC.SANCTIONED.AMOUNT  \\\n",
       "count      233154.000000         2.331540e+05           2.331540e+05   \n",
       "mean            0.007244         5.427793e+03           7.295923e+03   \n",
       "std             0.111079         1.702370e+05           1.831560e+05   \n",
       "min             0.000000        -5.746470e+05           0.000000e+00   \n",
       "25%             0.000000         0.000000e+00           0.000000e+00   \n",
       "50%             0.000000         0.000000e+00           0.000000e+00   \n",
       "75%             0.000000         0.000000e+00           0.000000e+00   \n",
       "max             8.000000         3.603285e+07           3.000000e+07   \n",
       "\n",
       "       SEC.DISBURSED.AMOUNT  PRIMARY.INSTAL.AMT  SEC.INSTAL.AMT  \\\n",
       "count          2.331540e+05        2.331540e+05    2.331540e+05   \n",
       "mean           7.179998e+03        1.310548e+04    3.232684e+02   \n",
       "std            1.825925e+05        1.513679e+05    1.555369e+04   \n",
       "min            0.000000e+00        0.000000e+00    0.000000e+00   \n",
       "25%            0.000000e+00        0.000000e+00    0.000000e+00   \n",
       "50%            0.000000e+00        0.000000e+00    0.000000e+00   \n",
       "75%            0.000000e+00        1.999000e+03    0.000000e+00   \n",
       "max            3.000000e+07        2.564281e+07    4.170901e+06   \n",
       "\n",
       "       NEW.ACCTS.IN.LAST.SIX.MONTHS  DELINQUENT.ACCTS.IN.LAST.SIX.MONTHS  \\\n",
       "count                 233154.000000                        233154.000000   \n",
       "mean                       0.381833                             0.097481   \n",
       "std                        0.955107                             0.384439   \n",
       "min                        0.000000                             0.000000   \n",
       "25%                        0.000000                             0.000000   \n",
       "50%                        0.000000                             0.000000   \n",
       "75%                        0.000000                             0.000000   \n",
       "max                       35.000000                            20.000000   \n",
       "\n",
       "       NO.OF_INQUIRIES   loan_default  \n",
       "count    233154.000000  233154.000000  \n",
       "mean          0.206615       0.217071  \n",
       "std           0.706498       0.412252  \n",
       "min           0.000000       0.000000  \n",
       "25%           0.000000       0.000000  \n",
       "50%           0.000000       0.000000  \n",
       "75%           0.000000       0.000000  \n",
       "max          36.000000       1.000000  "
      ]
     },
     "execution_count": 5,
     "metadata": {},
     "output_type": "execute_result"
    }
   ],
   "source": [
    "df.describe()"
   ]
  },
  {
   "cell_type": "code",
   "execution_count": 6,
   "metadata": {},
   "outputs": [
    {
     "data": {
      "text/plain": [
       "UniqueID                                 int64\n",
       "disbursed_amount                         int64\n",
       "asset_cost                               int64\n",
       "ltv                                    float64\n",
       "branch_id                                int64\n",
       "supplier_id                              int64\n",
       "manufacturer_id                          int64\n",
       "Current_pincode_ID                       int64\n",
       "Date.of.Birth                           object\n",
       "Employment.Type                         object\n",
       "DisbursalDate                           object\n",
       "State_ID                                 int64\n",
       "Employee_code_ID                         int64\n",
       "MobileNo_Avl_Flag                        int64\n",
       "Aadhar_flag                              int64\n",
       "PAN_flag                                 int64\n",
       "VoterID_flag                             int64\n",
       "Driving_flag                             int64\n",
       "Passport_flag                            int64\n",
       "PERFORM_CNS.SCORE                        int64\n",
       "PERFORM_CNS.SCORE.DESCRIPTION           object\n",
       "PRI.NO.OF.ACCTS                          int64\n",
       "PRI.ACTIVE.ACCTS                         int64\n",
       "PRI.OVERDUE.ACCTS                        int64\n",
       "PRI.CURRENT.BALANCE                      int64\n",
       "PRI.SANCTIONED.AMOUNT                    int64\n",
       "PRI.DISBURSED.AMOUNT                     int64\n",
       "SEC.NO.OF.ACCTS                          int64\n",
       "SEC.ACTIVE.ACCTS                         int64\n",
       "SEC.OVERDUE.ACCTS                        int64\n",
       "SEC.CURRENT.BALANCE                      int64\n",
       "SEC.SANCTIONED.AMOUNT                    int64\n",
       "SEC.DISBURSED.AMOUNT                     int64\n",
       "PRIMARY.INSTAL.AMT                       int64\n",
       "SEC.INSTAL.AMT                           int64\n",
       "NEW.ACCTS.IN.LAST.SIX.MONTHS             int64\n",
       "DELINQUENT.ACCTS.IN.LAST.SIX.MONTHS      int64\n",
       "AVERAGE.ACCT.AGE                        object\n",
       "CREDIT.HISTORY.LENGTH                   object\n",
       "NO.OF_INQUIRIES                          int64\n",
       "loan_default                             int64\n",
       "dtype: object"
      ]
     },
     "execution_count": 6,
     "metadata": {},
     "output_type": "execute_result"
    }
   ],
   "source": [
    "df.dtypes"
   ]
  },
  {
   "cell_type": "code",
   "execution_count": 7,
   "metadata": {},
   "outputs": [
    {
     "data": {
      "text/plain": [
       "UniqueID                               233154\n",
       "disbursed_amount                        24565\n",
       "asset_cost                              46252\n",
       "ltv                                      6579\n",
       "branch_id                                  82\n",
       "supplier_id                              2953\n",
       "manufacturer_id                            11\n",
       "Current_pincode_ID                       6698\n",
       "Date.of.Birth                           15433\n",
       "Employment.Type                             2\n",
       "DisbursalDate                              84\n",
       "State_ID                                   22\n",
       "Employee_code_ID                         3270\n",
       "MobileNo_Avl_Flag                           1\n",
       "Aadhar_flag                                 2\n",
       "PAN_flag                                    2\n",
       "VoterID_flag                                2\n",
       "Driving_flag                                2\n",
       "Passport_flag                               2\n",
       "PERFORM_CNS.SCORE                         573\n",
       "PERFORM_CNS.SCORE.DESCRIPTION              20\n",
       "PRI.NO.OF.ACCTS                           108\n",
       "PRI.ACTIVE.ACCTS                           40\n",
       "PRI.OVERDUE.ACCTS                          22\n",
       "PRI.CURRENT.BALANCE                     71341\n",
       "PRI.SANCTIONED.AMOUNT                   44390\n",
       "PRI.DISBURSED.AMOUNT                    47909\n",
       "SEC.NO.OF.ACCTS                            37\n",
       "SEC.ACTIVE.ACCTS                           23\n",
       "SEC.OVERDUE.ACCTS                           9\n",
       "SEC.CURRENT.BALANCE                      3246\n",
       "SEC.SANCTIONED.AMOUNT                    2223\n",
       "SEC.DISBURSED.AMOUNT                     2553\n",
       "PRIMARY.INSTAL.AMT                      28067\n",
       "SEC.INSTAL.AMT                           1918\n",
       "NEW.ACCTS.IN.LAST.SIX.MONTHS               26\n",
       "DELINQUENT.ACCTS.IN.LAST.SIX.MONTHS        14\n",
       "AVERAGE.ACCT.AGE                          192\n",
       "CREDIT.HISTORY.LENGTH                     294\n",
       "NO.OF_INQUIRIES                            25\n",
       "loan_default                                2\n",
       "dtype: int64"
      ]
     },
     "execution_count": 7,
     "metadata": {},
     "output_type": "execute_result"
    }
   ],
   "source": [
    "df.nunique()"
   ]
  },
  {
   "cell_type": "code",
   "execution_count": 8,
   "metadata": {},
   "outputs": [],
   "source": [
    "def reduce_mem_usage(df, verbose=True):\n",
    "    start_mem = df.memory_usage().sum() / 1024**2\n",
    "    numerics = ['int16', 'int32', 'int64', 'float16', 'float32', 'float64']\n",
    "\n",
    "    for col in df.columns:\n",
    "        col_type = df[col].dtypes\n",
    "        if col_type in numerics:\n",
    "            c_min = df[col].min()\n",
    "            c_max = df[col].max()\n",
    "            if str(col_type)[:3] == 'int':\n",
    "                if c_min > np.iinfo(np.int8).min and c_max < np.iinfo(np.int8).max:\n",
    "                    df[col] = df[col].astype(np.int8)\n",
    "                elif c_min > np.iinfo(np.int16).min and c_max < np.iinfo(np.int16).max:\n",
    "                    df[col] = df[col].astype(np.int16)\n",
    "                elif c_min > np.iinfo(np.int32).min and c_max < np.iinfo(np.int32).max:\n",
    "                    df[col] = df[col].astype(np.int32)\n",
    "                elif c_min > np.iinfo(np.int64).min and c_max < np.iinfo(np.int64).max:\n",
    "                    df[col] = df[col].astype(np.int64)\n",
    "            else:\n",
    "                if c_min > np.finfo(np.float16).min and c_max < np.finfo(np.float16).max:\n",
    "                    df[col] = df[col].astype(np.float16)\n",
    "                elif c_min > np.finfo(np.float32).min and c_max < np.finfo(np.float32).max:\n",
    "                    df[col] = df[col].astype(np.float32)\n",
    "                else:\n",
    "                    df[col] = df[col].astype(np.float64)\n",
    "                    \n",
    "    end_mem = df.memory_usage().sum() / 1024**2\n",
    "    print('Memory usage after optimization is: {:.2f} MB'.format(end_mem))\n",
    "    print('Decreased by {:.1f}%'.format(100 * (start_mem - end_mem) / start_mem))\n",
    "    return df"
   ]
  },
  {
   "cell_type": "code",
   "execution_count": 9,
   "metadata": {},
   "outputs": [],
   "source": [
    "def getdatefeat(df,colname):\n",
    "    df[colname] = pd.to_datetime(df[colname])\n",
    "    df[colname+'.Year'] = df[colname].dt.year\n",
    "    df[colname+'.Month'] = df[colname].dt.month\n",
    "    df[colname+'.Day'] = df[colname].dt.day\n",
    "    df[colname+'.WeekDay'] = df[colname].dt.weekday\n",
    "    df[colname+'.IsMonthStart'] = df[colname].dt.is_month_start\n",
    "    df[colname+'.IsMonthEnd'] = df[colname].dt.is_month_end\n",
    "    return df"
   ]
  },
  {
   "cell_type": "code",
   "execution_count": 10,
   "metadata": {},
   "outputs": [],
   "source": [
    "def texttimetoint(df,colname):\n",
    "    df[colname] = df[colname].apply(lambda x: int(x.split(' ')[0].split('y')[0])*12 + int(x.split(' ')[1].split('m')[0]))\n",
    "    return df"
   ]
  },
  {
   "cell_type": "code",
   "execution_count": 11,
   "metadata": {},
   "outputs": [],
   "source": [
    "def removestaticcols(df):\n",
    "    for colname in df.columns:\n",
    "        if df[colname].nunique() == 1:\n",
    "            df.drop(colname, axis = 1, inplace= True)\n"
   ]
  },
  {
   "cell_type": "code",
   "execution_count": 12,
   "metadata": {},
   "outputs": [],
   "source": [
    "\"\"\"\n",
    "For Feature engineering, I create 3 types of features:\n",
    "1. Features dependent on the business sense. These features, I create with the help of the non-technical team and \n",
    "research on internet based on the data and business and the problem statement.\n",
    "2. Features based on the raw data. These features are generally created to capture indirect information in the data using groupby, \n",
    "unique, sum,count etc.\n",
    "3. Features to capture anomalies in the data. \n",
    "    (1) Search EDA for things that look weird. \n",
    "    (2) Verify weirdness by comparing to randomly generated data (with same distribution type) \n",
    "    and confirm that those weird things are in test data \n",
    "    (3) Create new features to capture what you see \n",
    "    (4) Add to model and tune your model hyperparameters. \n",
    "    (5) Confirm CV increases\n",
    "\"\"\"\n",
    "def processdata(df):\n",
    "    df = getdatefeat(df,'Date.of.Birth')\n",
    "    df = getdatefeat(df,'DisbursalDate')\n",
    "    df = texttimetoint(df,'AVERAGE.ACCT.AGE')\n",
    "    df = texttimetoint(df,'CREDIT.HISTORY.LENGTH')\n",
    "    df.fillna('Null', inplace = True)\n",
    "    df['Employment.Type'] = df['Employment.Type'].map({'Salaried': 1 ,'Self employed': 2 , 'Null': 3})\n",
    "    removestaticcols(df)\n",
    "    df.drop_duplicates(keep='first', inplace = True)\n",
    "    df = reduce_mem_usage(df)\n",
    "    return df"
   ]
  },
  {
   "cell_type": "code",
   "execution_count": 13,
   "metadata": {},
   "outputs": [
    {
     "name": "stdout",
     "output_type": "stream",
     "text": [
      "Memory usage after optimization is: 27.57 MB\n",
      "Decreased by 68.0%\n"
     ]
    },
    {
     "data": {
      "text/plain": [
       "UniqueID                                        int32\n",
       "disbursed_amount                                int32\n",
       "asset_cost                                      int32\n",
       "ltv                                           float16\n",
       "branch_id                                       int16\n",
       "supplier_id                                     int16\n",
       "manufacturer_id                                 int16\n",
       "Current_pincode_ID                              int16\n",
       "Date.of.Birth                          datetime64[ns]\n",
       "Employment.Type                                  int8\n",
       "DisbursalDate                          datetime64[ns]\n",
       "State_ID                                         int8\n",
       "Employee_code_ID                                int16\n",
       "Aadhar_flag                                      int8\n",
       "PAN_flag                                         int8\n",
       "VoterID_flag                                     int8\n",
       "Driving_flag                                     int8\n",
       "Passport_flag                                    int8\n",
       "PERFORM_CNS.SCORE                               int16\n",
       "PERFORM_CNS.SCORE.DESCRIPTION                  object\n",
       "PRI.NO.OF.ACCTS                                 int16\n",
       "PRI.ACTIVE.ACCTS                                int16\n",
       "PRI.OVERDUE.ACCTS                                int8\n",
       "PRI.CURRENT.BALANCE                             int32\n",
       "PRI.SANCTIONED.AMOUNT                           int32\n",
       "PRI.DISBURSED.AMOUNT                            int32\n",
       "SEC.NO.OF.ACCTS                                  int8\n",
       "SEC.ACTIVE.ACCTS                                 int8\n",
       "SEC.OVERDUE.ACCTS                                int8\n",
       "SEC.CURRENT.BALANCE                             int32\n",
       "SEC.SANCTIONED.AMOUNT                           int32\n",
       "SEC.DISBURSED.AMOUNT                            int32\n",
       "PRIMARY.INSTAL.AMT                              int32\n",
       "SEC.INSTAL.AMT                                  int32\n",
       "NEW.ACCTS.IN.LAST.SIX.MONTHS                     int8\n",
       "DELINQUENT.ACCTS.IN.LAST.SIX.MONTHS              int8\n",
       "AVERAGE.ACCT.AGE                                int16\n",
       "CREDIT.HISTORY.LENGTH                           int16\n",
       "NO.OF_INQUIRIES                                  int8\n",
       "loan_default                                     int8\n",
       "Date.of.Birth.Year                              int16\n",
       "Date.of.Birth.Month                              int8\n",
       "Date.of.Birth.Day                                int8\n",
       "Date.of.Birth.WeekDay                            int8\n",
       "Date.of.Birth.IsMonthStart                       bool\n",
       "Date.of.Birth.IsMonthEnd                         bool\n",
       "DisbursalDate.Month                              int8\n",
       "DisbursalDate.Day                                int8\n",
       "DisbursalDate.WeekDay                            int8\n",
       "DisbursalDate.IsMonthEnd                         bool\n",
       "dtype: object"
      ]
     },
     "execution_count": 13,
     "metadata": {},
     "output_type": "execute_result"
    }
   ],
   "source": [
    "df = processdata(df)\n",
    "df.dtypes"
   ]
  },
  {
   "cell_type": "code",
   "execution_count": 14,
   "metadata": {},
   "outputs": [
    {
     "data": {
      "text/plain": [
       "(<matplotlib.axes._subplots.AxesSubplot at 0x212547c43c8>, 0.2170711203753742)"
      ]
     },
     "execution_count": 14,
     "metadata": {},
     "output_type": "execute_result"
    },
    {
     "data": {
      "image/png": "[encoded data removed]",
      "text/plain": [
       "<Figure size 432x288 with 1 Axes>"
      ]
     },
     "metadata": {},
     "output_type": "display_data"
    }
   ],
   "source": [
    "sns.countplot(x='loan_default', data=df), df.loan_default.sum()/df.shape[0]"
   ]
  },
  {
   "cell_type": "code",
   "execution_count": 15,
   "metadata": {},
   "outputs": [
    {
     "data": {
      "text/plain": [
       "UniqueID                               0.033848\n",
       "disbursed_amount                       0.077675\n",
       "asset_cost                             0.014261\n",
       "ltv                                    0.098208\n",
       "branch_id                              0.030193\n",
       "supplier_id                            0.027357\n",
       "manufacturer_id                       -0.025039\n",
       "Current_pincode_ID                     0.028419\n",
       "Employment.Type                        0.024823\n",
       "State_ID                               0.048075\n",
       "Employee_code_ID                       0.020657\n",
       "Aadhar_flag                           -0.041593\n",
       "PAN_flag                               0.002046\n",
       "VoterID_flag                           0.043747\n",
       "Driving_flag                          -0.005821\n",
       "Passport_flag                         -0.007602\n",
       "PERFORM_CNS.SCORE                     -0.057929\n",
       "PRI.NO.OF.ACCTS                       -0.035456\n",
       "PRI.ACTIVE.ACCTS                      -0.041451\n",
       "PRI.OVERDUE.ACCTS                      0.040872\n",
       "PRI.CURRENT.BALANCE                   -0.027386\n",
       "PRI.SANCTIONED.AMOUNT                 -0.011304\n",
       "PRI.DISBURSED.AMOUNT                  -0.011155\n",
       "SEC.NO.OF.ACCTS                       -0.008385\n",
       "SEC.ACTIVE.ACCTS                      -0.005993\n",
       "SEC.OVERDUE.ACCTS                     -0.001371\n",
       "SEC.CURRENT.BALANCE                   -0.005531\n",
       "SEC.SANCTIONED.AMOUNT                 -0.006354\n",
       "SEC.DISBURSED.AMOUNT                  -0.006248\n",
       "PRIMARY.INSTAL.AMT                    -0.010616\n",
       "SEC.INSTAL.AMT                        -0.001548\n",
       "NEW.ACCTS.IN.LAST.SIX.MONTHS          -0.029400\n",
       "DELINQUENT.ACCTS.IN.LAST.SIX.MONTHS    0.034462\n",
       "AVERAGE.ACCT.AGE                      -0.024781\n",
       "CREDIT.HISTORY.LENGTH                 -0.042126\n",
       "NO.OF_INQUIRIES                        0.043678\n",
       "loan_default                           1.000000\n",
       "Date.of.Birth.Year                    -0.006515\n",
       "Date.of.Birth.Month                   -0.036563\n",
       "Date.of.Birth.Day                     -0.037429\n",
       "Date.of.Birth.WeekDay                  0.006113\n",
       "Date.of.Birth.IsMonthStart             0.050071\n",
       "Date.of.Birth.IsMonthEnd              -0.001582\n",
       "DisbursalDate.Month                    0.011411\n",
       "DisbursalDate.Day                      0.024018\n",
       "DisbursalDate.WeekDay                 -0.007883\n",
       "DisbursalDate.IsMonthEnd               0.031901\n",
       "Name: loan_default, dtype: float64"
      ]
     },
     "execution_count": 15,
     "metadata": {},
     "output_type": "execute_result"
    }
   ],
   "source": [
    "df.corr()['loan_default']"
   ]
  },
  {
   "cell_type": "code",
   "execution_count": 16,
   "metadata": {},
   "outputs": [
    {
     "data": {
      "text/plain": [
       "<matplotlib.axes._subplots.AxesSubplot at 0x2125475be48>"
      ]
     },
     "execution_count": 16,
     "metadata": {},
     "output_type": "execute_result"
    },
    {
     "data": {
      "image/png": "[encoded data removed]",
      "text/plain": [
       "<Figure size 432x288 with 1 Axes>"
      ]
     },
     "metadata": {},
     "output_type": "display_data"
    }
   ],
   "source": [
    "sns.countplot(x='Employment.Type', data=df)"
   ]
  },
  {
   "cell_type": "code",
   "execution_count": 17,
   "metadata": {},
   "outputs": [
    {
     "data": {
      "text/plain": [
       "<seaborn.axisgrid.FacetGrid at 0x21255362e10>"
      ]
     },
     "execution_count": 17,
     "metadata": {},
     "output_type": "execute_result"
    },
    {
     "data": {
      "image/png": "[encoded data removed]",
      "text/plain": [
       "<Figure size 1080x360 with 3 Axes>"
      ]
     },
     "metadata": {},
     "output_type": "display_data"
    }
   ],
   "source": [
    "sns.catplot(x='loan_default', col='Employment.Type', kind='count', data=df)"
   ]
  },
  {
   "cell_type": "code",
   "execution_count": 18,
   "metadata": {},
   "outputs": [
    {
     "data": {
      "text/plain": [
       "(<matplotlib.axes._subplots.AxesSubplot at 0x212547a4b38>, 0.8403201317584086)"
      ]
     },
     "execution_count": 18,
     "metadata": {},
     "output_type": "execute_result"
    },
    {
     "data": {
      "image/png": "[encoded data removed]",
      "text/plain": [
       "<Figure size 432x288 with 1 Axes>"
      ]
     },
     "metadata": {},
     "output_type": "display_data"
    }
   ],
   "source": [
    "sns.countplot(x='Aadhar_flag', data=df), df.Aadhar_flag.sum()/df.shape[0]"
   ]
  },
  {
   "cell_type": "code",
   "execution_count": 19,
   "metadata": {},
   "outputs": [
    {
     "data": {
      "text/plain": [
       "<seaborn.axisgrid.FacetGrid at 0x212529b1978>"
      ]
     },
     "execution_count": 19,
     "metadata": {},
     "output_type": "execute_result"
    },
    {
     "data": {
      "image/png": "[encoded data removed]",
      "text/plain": [
       "<Figure size 720x360 with 2 Axes>"
      ]
     },
     "metadata": {},
     "output_type": "display_data"
    }
   ],
   "source": [
    "sns.catplot(x='loan_default', col='Aadhar_flag', kind='count', data=df)"
   ]
  },
  {
   "cell_type": "code",
   "execution_count": 20,
   "metadata": {},
   "outputs": [
    {
     "data": {
      "text/plain": [
       "(<matplotlib.axes._subplots.AxesSubplot at 0x21254a532b0>, 0.07557665748818378)"
      ]
     },
     "execution_count": 20,
     "metadata": {},
     "output_type": "execute_result"
    },
    {
     "data": {
      "image/png": "[encoded data removed]",
      "text/plain": [
       "<Figure size 432x288 with 1 Axes>"
      ]
     },
     "metadata": {},
     "output_type": "display_data"
    }
   ],
   "source": [
    "sns.countplot(x='PAN_flag', data=df), df.PAN_flag.sum()/df.shape[0]"
   ]
  },
  {
   "cell_type": "code",
   "execution_count": 21,
   "metadata": {},
   "outputs": [
    {
     "data": {
      "text/html": [
       "<style  type=\"text/css\" >\n",
       "    #T_2e3d6048_6245_11e9_b93c_b0c0909dfa93row0_col0 {\n",
       "            background-color:  #ff1400;\n",
       "        }    #T_2e3d6048_6245_11e9_b93c_b0c0909dfa93row0_col1 {\n",
       "            background-color:  #ff1500;\n",
       "        }    #T_2e3d6048_6245_11e9_b93c_b0c0909dfa93row0_col2 {\n",
       "            background-color:  #ff1400;\n",
       "        }    #T_2e3d6048_6245_11e9_b93c_b0c0909dfa93row1_col0 {\n",
       "            background-color:  #ffff00;\n",
       "        }    #T_2e3d6048_6245_11e9_b93c_b0c0909dfa93row1_col1 {\n",
       "            background-color:  #ffff00;\n",
       "        }    #T_2e3d6048_6245_11e9_b93c_b0c0909dfa93row1_col2 {\n",
       "            background-color:  #ffff00;\n",
       "        }    #T_2e3d6048_6245_11e9_b93c_b0c0909dfa93row2_col0 {\n",
       "            background-color:  #ff0000;\n",
       "        }    #T_2e3d6048_6245_11e9_b93c_b0c0909dfa93row2_col1 {\n",
       "            background-color:  #ff0000;\n",
       "        }    #T_2e3d6048_6245_11e9_b93c_b0c0909dfa93row2_col2 {\n",
       "            background-color:  #ff0000;\n",
       "        }</style>  \n",
       "<table id=\"T_2e3d6048_6245_11e9_b93c_b0c0909dfa93\" > \n",
       "<thead>    <tr> \n",
       "        <th class=\"index_name level0\" >loan_default</th> \n",
       "        <th class=\"col_heading level0 col0\" >0</th> \n",
       "        <th class=\"col_heading level0 col1\" >1</th> \n",
       "        <th class=\"col_heading level0 col2\" >All</th> \n",
       "    </tr>    <tr> \n",
       "        <th class=\"index_name level0\" >PAN_flag</th> \n",
       "        <th class=\"blank\" ></th> \n",
       "        <th class=\"blank\" ></th> \n",
       "        <th class=\"blank\" ></th> \n",
       "    </tr></thead> \n",
       "<tbody>    <tr> \n",
       "        <th id=\"T_2e3d6048_6245_11e9_b93c_b0c0909dfa93level0_row0\" class=\"row_heading level0 row0\" >0</th> \n",
       "        <td id=\"T_2e3d6048_6245_11e9_b93c_b0c0909dfa93row0_col0\" class=\"data row0 col0\" >168799</td> \n",
       "        <td id=\"T_2e3d6048_6245_11e9_b93c_b0c0909dfa93row0_col1\" class=\"data row0 col1\" >46734</td> \n",
       "        <td id=\"T_2e3d6048_6245_11e9_b93c_b0c0909dfa93row0_col2\" class=\"data row0 col2\" >215533</td> \n",
       "    </tr>    <tr> \n",
       "        <th id=\"T_2e3d6048_6245_11e9_b93c_b0c0909dfa93level0_row1\" class=\"row_heading level0 row1\" >1</th> \n",
       "        <td id=\"T_2e3d6048_6245_11e9_b93c_b0c0909dfa93row1_col0\" class=\"data row1 col0\" >13744</td> \n",
       "        <td id=\"T_2e3d6048_6245_11e9_b93c_b0c0909dfa93row1_col1\" class=\"data row1 col1\" >3877</td> \n",
       "        <td id=\"T_2e3d6048_6245_11e9_b93c_b0c0909dfa93row1_col2\" class=\"data row1 col2\" >17621</td> \n",
       "    </tr>    <tr> \n",
       "        <th id=\"T_2e3d6048_6245_11e9_b93c_b0c0909dfa93level0_row2\" class=\"row_heading level0 row2\" >All</th> \n",
       "        <td id=\"T_2e3d6048_6245_11e9_b93c_b0c0909dfa93row2_col0\" class=\"data row2 col0\" >182543</td> \n",
       "        <td id=\"T_2e3d6048_6245_11e9_b93c_b0c0909dfa93row2_col1\" class=\"data row2 col1\" >50611</td> \n",
       "        <td id=\"T_2e3d6048_6245_11e9_b93c_b0c0909dfa93row2_col2\" class=\"data row2 col2\" >233154</td> \n",
       "    </tr></tbody> \n",
       "</table> "
      ],
      "text/plain": [
       "<pandas.io.formats.style.Styler at 0x21254a72e80>"
      ]
     },
     "execution_count": 21,
     "metadata": {},
     "output_type": "execute_result"
    }
   ],
   "source": [
    "pd.crosstab(df.PAN_flag, df.loan_default, margins=True).style.background_gradient(cmap='autumn_r')"
   ]
  },
  {
   "cell_type": "code",
   "execution_count": 22,
   "metadata": {},
   "outputs": [
    {
     "data": {
      "text/plain": [
       "(<matplotlib.axes._subplots.AxesSubplot at 0x212554b85c0>, 0.14494282748741175)"
      ]
     },
     "execution_count": 22,
     "metadata": {},
     "output_type": "execute_result"
    },
    {
     "data": {
      "image/png": "[encoded data removed]",
      "text/plain": [
       "<Figure size 432x288 with 1 Axes>"
      ]
     },
     "metadata": {},
     "output_type": "display_data"
    }
   ],
   "source": [
    "sns.countplot(x='VoterID_flag', data=df), df.VoterID_flag.sum()/df.shape[0]"
   ]
  },
  {
   "cell_type": "code",
   "execution_count": 23,
   "metadata": {},
   "outputs": [
    {
     "data": {
      "text/plain": [
       "(<matplotlib.axes._subplots.AxesSubplot at 0x21255518278>,\n",
       " 0.023242148965919522)"
      ]
     },
     "execution_count": 23,
     "metadata": {},
     "output_type": "execute_result"
    },
    {
     "data": {
      "image/png": "[encoded data removed]",
      "text/plain": [
       "<Figure size 432x288 with 1 Axes>"
      ]
     },
     "metadata": {},
     "output_type": "display_data"
    }
   ],
   "source": [
    "sns.countplot(x='Driving_flag', data=df), df.Driving_flag.sum()/df.shape[0]"
   ]
  },
  {
   "cell_type": "code",
   "execution_count": 24,
   "metadata": {},
   "outputs": [
    {
     "data": {
      "text/plain": [
       "(<matplotlib.axes._subplots.AxesSubplot at 0x21255a8a5c0>,\n",
       " 0.0021273493056091683)"
      ]
     },
     "execution_count": 24,
     "metadata": {},
     "output_type": "execute_result"
    },
    {
     "data": {
      "image/png": "[encoded data removed]",
      "text/plain": [
       "<Figure size 432x288 with 1 Axes>"
      ]
     },
     "metadata": {},
     "output_type": "display_data"
    }
   ],
   "source": [
    "sns.countplot(x='Passport_flag', data=df), df.Passport_flag.sum()/df.shape[0]"
   ]
  },
  {
   "cell_type": "code",
   "execution_count": 25,
   "metadata": {},
   "outputs": [
    {
     "data": {
      "text/plain": [
       "(<matplotlib.axes._subplots.AxesSubplot at 0x21255ae02e8>,\n",
       " 0.007244139066882833)"
      ]
     },
     "execution_count": 25,
     "metadata": {},
     "output_type": "execute_result"
    },
    {
     "data": {
      "image/png": "[encoded data removed]",
      "text/plain": [
       "<Figure size 432x288 with 1 Axes>"
      ]
     },
     "metadata": {},
     "output_type": "display_data"
    }
   ],
   "source": [
    "sns.countplot(x='SEC.OVERDUE.ACCTS', data=df), df['SEC.OVERDUE.ACCTS'].sum()/df.shape[0]"
   ]
  },
  {
   "cell_type": "code",
   "execution_count": 26,
   "metadata": {},
   "outputs": [
    {
     "data": {
      "text/plain": [
       "<matplotlib.axes._subplots.AxesSubplot at 0x21255b335c0>"
      ]
     },
     "execution_count": 26,
     "metadata": {},
     "output_type": "execute_result"
    },
    {
     "data": {
      "image/png": "[encoded data removed]",
      "text/plain": [
       "<Figure size 432x288 with 1 Axes>"
      ]
     },
     "metadata": {},
     "output_type": "display_data"
    }
   ],
   "source": [
    "sns.distplot(df[['NO.OF_INQUIRIES']], hist=False, rug=True)"
   ]
  },
  {
   "cell_type": "code",
   "execution_count": 27,
   "metadata": {},
   "outputs": [
    {
     "data": {
      "text/plain": [
       "<matplotlib.axes._subplots.AxesSubplot at 0x21255b2b7f0>"
      ]
     },
     "execution_count": 27,
     "metadata": {},
     "output_type": "execute_result"
    },
    {
     "data": {
      "image/png": "[encoded data removed]",
      "text/plain": [
       "<Figure size 432x288 with 1 Axes>"
      ]
     },
     "metadata": {},
     "output_type": "display_data"
    }
   ],
   "source": [
    "sns.distplot(df[['PRI.DISBURSED.AMOUNT']], hist=False, rug=True)"
   ]
  },
  {
   "cell_type": "code",
   "execution_count": 28,
   "metadata": {},
   "outputs": [
    {
     "data": {
      "text/plain": [
       "<matplotlib.axes._subplots.AxesSubplot at 0x21255acd6a0>"
      ]
     },
     "execution_count": 28,
     "metadata": {},
     "output_type": "execute_result"
    },
    {
     "data": {
      "image/png": "[encoded data removed]",
      "text/plain": [
       "<Figure size 432x288 with 1 Axes>"
      ]
     },
     "metadata": {},
     "output_type": "display_data"
    }
   ],
   "source": [
    "sns.distplot(df[['disbursed_amount']], hist=False, rug=True)"
   ]
  },
  {
   "cell_type": "code",
   "execution_count": 29,
   "metadata": {},
   "outputs": [],
   "source": [
    "def plot_feature_distribution(df1, df2, label1, label2, features):\n",
    "    i = 0\n",
    "    sns.set_style('whitegrid')\n",
    "    plt.figure()\n",
    "    fig, ax = plt.subplots(2,4,figsize=(18,8))\n",
    "\n",
    "    for feature in features:\n",
    "        i += 1\n",
    "        plt.subplot(2,4,i)\n",
    "        sns.kdeplot(df1[feature], bw=0.5,label=label1)\n",
    "        sns.kdeplot(df2[feature], bw=0.5,label=label2)\n",
    "        plt.xlabel(feature, fontsize=11)\n",
    "        locs, labels = plt.xticks()\n",
    "        plt.tick_params(axis='x', which='major', labelsize=8)\n",
    "        plt.tick_params(axis='y', which='major', labelsize=8)\n",
    "    plt.show();"
   ]
  },
  {
   "cell_type": "code",
   "execution_count": 30,
   "metadata": {},
   "outputs": [
    {
     "data": {
      "text/plain": [
       "<Figure size 432x288 with 0 Axes>"
      ]
     },
     "metadata": {},
     "output_type": "display_data"
    },
    {
     "data": {
      "image/png": "[encoded data removed]",
      "text/plain": [
       "<Figure size 1296x576 with 8 Axes>"
      ]
     },
     "metadata": {},
     "output_type": "display_data"
    }
   ],
   "source": [
    "t0 = df.loc[df['loan_default'] == 0]\n",
    "t1 = df.loc[df['loan_default'] == 1]\n",
    "features = ['asset_cost','CREDIT.HISTORY.LENGTH','disbursed_amount','PRI.ACTIVE.ACCTS','PRI.NO.OF.ACCTS','PRI.SANCTIONED.AMOUNT'\n",
    "           ,'SEC.NO.OF.ACCTS','PRI.DISBURSED.AMOUNT']\n",
    "plot_feature_distribution(t0, t1, 'target: 0', 'target: 1', features)"
   ]
  },
  {
   "cell_type": "code",
   "execution_count": 31,
   "metadata": {},
   "outputs": [
    {
     "data": {
      "text/plain": [
       "(                             index                      variable     value\n",
       " 43             DisbursalDate.Month                      UniqueID  0.533328\n",
       " 49                      asset_cost              disbursed_amount  0.752668\n",
       " 95                disbursed_amount                    asset_cost  0.752668\n",
       " 958               PRI.ACTIVE.ACCTS               PRI.NO.OF.ACCTS  0.753565\n",
       " 971   NEW.ACCTS.IN.LAST.SIX.MONTHS               PRI.NO.OF.ACCTS  0.537622\n",
       " 1004               PRI.NO.OF.ACCTS              PRI.ACTIVE.ACCTS  0.753565\n",
       " 1018  NEW.ACCTS.IN.LAST.SIX.MONTHS              PRI.ACTIVE.ACCTS  0.702943\n",
       " 1021         CREDIT.HISTORY.LENGTH              PRI.ACTIVE.ACCTS  0.506247\n",
       " 1150          PRI.DISBURSED.AMOUNT         PRI.SANCTIONED.AMOUNT  0.998747\n",
       " 1196         PRI.SANCTIONED.AMOUNT          PRI.DISBURSED.AMOUNT  0.998747\n",
       " 1246              SEC.ACTIVE.ACCTS               SEC.NO.OF.ACCTS  0.828727\n",
       " 1247             SEC.OVERDUE.ACCTS               SEC.NO.OF.ACCTS  0.510394\n",
       " 1292               SEC.NO.OF.ACCTS              SEC.ACTIVE.ACCTS  0.828727\n",
       " 1294             SEC.OVERDUE.ACCTS              SEC.ACTIVE.ACCTS  0.526209\n",
       " 1339               SEC.NO.OF.ACCTS             SEC.OVERDUE.ACCTS  0.510394\n",
       " 1340              SEC.ACTIVE.ACCTS             SEC.OVERDUE.ACCTS  0.526209\n",
       " 1390         SEC.SANCTIONED.AMOUNT           SEC.CURRENT.BALANCE  0.929196\n",
       " 1391          SEC.DISBURSED.AMOUNT           SEC.CURRENT.BALANCE  0.929995\n",
       " 1436           SEC.CURRENT.BALANCE         SEC.SANCTIONED.AMOUNT  0.929196\n",
       " 1438          SEC.DISBURSED.AMOUNT         SEC.SANCTIONED.AMOUNT  0.999646\n",
       " 1483           SEC.CURRENT.BALANCE          SEC.DISBURSED.AMOUNT  0.929995\n",
       " 1484         SEC.SANCTIONED.AMOUNT          SEC.DISBURSED.AMOUNT  0.999646\n",
       " 1615               PRI.NO.OF.ACCTS  NEW.ACCTS.IN.LAST.SIX.MONTHS  0.537622\n",
       " 1616              PRI.ACTIVE.ACCTS  NEW.ACCTS.IN.LAST.SIX.MONTHS  0.702943\n",
       " 1726         CREDIT.HISTORY.LENGTH              AVERAGE.ACCT.AGE  0.831952\n",
       " 1757              PRI.ACTIVE.ACCTS         CREDIT.HISTORY.LENGTH  0.506247\n",
       " 1772              AVERAGE.ACCT.AGE         CREDIT.HISTORY.LENGTH  0.831952\n",
       " 2162                      UniqueID           DisbursalDate.Month  0.533328,\n",
       "                            index                    variable     value\n",
       " 624                 VoterID_flag                 Aadhar_flag -0.869259\n",
       " 716                  Aadhar_flag                VoterID_flag -0.869259\n",
       " 1968  Date.of.Birth.IsMonthStart         Date.of.Birth.Month -0.510812\n",
       " 2015  Date.of.Birth.IsMonthStart           Date.of.Birth.Day -0.616377\n",
       " 2106         Date.of.Birth.Month  Date.of.Birth.IsMonthStart -0.510812\n",
       " 2107           Date.of.Birth.Day  Date.of.Birth.IsMonthStart -0.616377)"
      ]
     },
     "execution_count": 31,
     "metadata": {},
     "output_type": "execute_result"
    }
   ],
   "source": [
    "tmp = pd.melt(df.corr().reset_index(), id_vars = ['index'], value_vars = df.columns)\n",
    "tmp = tmp[tmp.value != 1.0]\n",
    "tmp[tmp.value > 0.5], tmp[tmp.value < -0.5]"
   ]
  },
  {
   "cell_type": "code",
   "execution_count": 32,
   "metadata": {},
   "outputs": [],
   "source": [
    "random_state = 2103"
   ]
  },
  {
   "cell_type": "code",
   "execution_count": 33,
   "metadata": {},
   "outputs": [],
   "source": [
    "\"\"\"\n",
    "I usually tune the depth/leaves first, then featurefraction and baggingfraction, then mindata/minhessianinleaf \n",
    "using a few standard values (0.3, 0.7, 0.9 fractions), (31, 71, 123, 171 leaves). Then once I have a general tuning I \n",
    "fine tune from there. Here, since I had limited time I was unable to fine tune them. For tuning I generally use optuna library.\n",
    "\"\"\"\n",
    "lgb_params = {\n",
    "    \"objective\" : \"binary\",\n",
    "    \"metric\" : \"auc\",\n",
    "    \"boosting\": 'gbdt',\n",
    "    \"max_depth\" : -1,\n",
    "    \"num_leaves\" : 16,\n",
    "    \"learning_rate\" : 0.03,\n",
    "    #\"bagging_freq\": 5,\n",
    "    #\"bagging_fraction\" : 0.4,\n",
    "    #\"feature_fraction\" : 0.05,\n",
    "    #\"min_data_in_leaf\": 80,\n",
    "    #\"min_sum_heassian_in_leaf\": 10,\n",
    "    #\"tree_learner\": \"serial\",\n",
    "    #\"boost_from_average\": \"false\",\n",
    "    #\"bagging_seed\" : random_state,\n",
    "    \"verbosity\" : 1,\n",
    "    \"seed\": random_state\n",
    "} #0.673"
   ]
  },
  {
   "cell_type": "code",
   "execution_count": 34,
   "metadata": {},
   "outputs": [],
   "source": [
    "noreq = ['UniqueID','loan_default','PERFORM_CNS.SCORE.DESCRIPTION','Date.of.Birth','DisbursalDate']\n",
    "traincols = [colname for colname in df.columns if colname not in noreq]\n",
    "X = df[traincols]\n",
    "y = df['loan_default']"
   ]
  },
  {
   "cell_type": "code",
   "execution_count": 35,
   "metadata": {},
   "outputs": [
    {
     "name": "stdout",
     "output_type": "stream",
     "text": [
      "Fold:  1\n",
      "Training Logistic Regression\n",
      "ROC LOG Score: 0.5866659691913976\n",
      "Descision Tree\n",
      "ROC DEC Score: 0.5281754218234724\n",
      "Random Forest\n",
      "ROC RF Score: 0.6382406355536939\n",
      "Training until validation scores don't improve for 1000 rounds.\n",
      "[1000]\ttraining's auc: 0.715199\tvalid_1's auc: 0.672209\n",
      "[2000]\ttraining's auc: 0.749411\tvalid_1's auc: 0.67377\n",
      "[3000]\ttraining's auc: 0.777817\tvalid_1's auc: 0.673063\n",
      "Early stopping, best iteration is:\n",
      "[2266]\ttraining's auc: 0.757525\tvalid_1's auc: 0.67391\n",
      "Fold:  2\n",
      "Training Logistic Regression\n",
      "ROC LOG Score: 0.6080704473867691\n",
      "Descision Tree\n",
      "ROC DEC Score: 0.5244234288921048\n",
      "Random Forest\n",
      "ROC RF Score: 0.6421738171015249\n",
      "Training until validation scores don't improve for 1000 rounds.\n",
      "[1000]\ttraining's auc: 0.715168\tvalid_1's auc: 0.672369\n",
      "[2000]\ttraining's auc: 0.749859\tvalid_1's auc: 0.672302\n",
      "Early stopping, best iteration is:\n",
      "[1458]\ttraining's auc: 0.731889\tvalid_1's auc: 0.672643\n",
      "Fold:  3\n",
      "Training Logistic Regression\n",
      "ROC LOG Score: 0.6116139108247913\n",
      "Descision Tree\n",
      "ROC DEC Score: 0.5291069213612498\n",
      "Random Forest\n",
      "ROC RF Score: 0.6355153668291031\n",
      "Training until validation scores don't improve for 1000 rounds.\n",
      "[1000]\ttraining's auc: 0.716102\tvalid_1's auc: 0.668517\n",
      "[2000]\ttraining's auc: 0.750388\tvalid_1's auc: 0.669443\n",
      "[3000]\ttraining's auc: 0.77854\tvalid_1's auc: 0.66883\n",
      "Early stopping, best iteration is:\n",
      "[2126]\ttraining's auc: 0.754124\tvalid_1's auc: 0.669614\n",
      "Fold:  4\n",
      "Training Logistic Regression\n",
      "ROC LOG Score: 0.5869695727247554\n",
      "Descision Tree\n",
      "ROC DEC Score: 0.5309074124215307\n",
      "Random Forest\n",
      "ROC RF Score: 0.6371190223114965\n",
      "Training until validation scores don't improve for 1000 rounds.\n",
      "[1000]\ttraining's auc: 0.715712\tvalid_1's auc: 0.670188\n",
      "[2000]\ttraining's auc: 0.750706\tvalid_1's auc: 0.671152\n",
      "Early stopping, best iteration is:\n",
      "[1834]\ttraining's auc: 0.745625\tvalid_1's auc: 0.671259\n",
      "Fold:  5\n",
      "Training Logistic Regression\n",
      "ROC LOG Score: 0.5891653329327423\n",
      "Descision Tree\n",
      "ROC DEC Score: 0.5297277265785163\n",
      "Random Forest\n",
      "ROC RF Score: 0.6372438498050312\n",
      "Training until validation scores don't improve for 1000 rounds.\n",
      "[1000]\ttraining's auc: 0.71718\tvalid_1's auc: 0.665627\n",
      "[2000]\ttraining's auc: 0.751635\tvalid_1's auc: 0.666521\n",
      "[3000]\ttraining's auc: 0.779413\tvalid_1's auc: 0.666571\n",
      "Early stopping, best iteration is:\n",
      "[2665]\ttraining's auc: 0.770662\tvalid_1's auc: 0.666916\n",
      "ROC LOG Score: 0.5967264899910976\n",
      "ROC DEC Score: 0.5284681616410165\n",
      "ROC RF Score: 0.6379274720630704\n",
      "ROC LGB Score: 0.6708189393398345\n"
     ]
    }
   ],
   "source": [
    "skf = StratifiedKFold(n_splits=5, random_state = random_state, shuffle = True)\n",
    "oof_log = np.zeros(len(y))\n",
    "oof_dec = np.zeros(len(y))\n",
    "oof_rf = np.zeros(len(y))\n",
    "oof_lgb = np.zeros(len(y))\n",
    "feature_importance_df = pd.DataFrame()\n",
    "n =1\n",
    "for train_index, test_index in skf.split(X, y):\n",
    "    print('Fold: ', n)\n",
    "    n+=1\n",
    "    X_train, X_test = X.iloc[train_index,:], X.iloc[test_index,:]\n",
    "    y_train, y_test = y[train_index], y[test_index]\n",
    "    print('Training Logistic Regression')\n",
    "    log_clf = LogisticRegression(random_state=random_state,class_weight = {0: sum(y_train)/len(y_train),1: 1 - sum(y_train)/len(y_train) }).fit(X_train, y_train) \n",
    "    oof_log[test_index] = log_clf.predict_proba(X_test)[:,1]\n",
    "    print('ROC LOG Score:',roc_auc_score(y_test,oof_log[test_index]))\n",
    "    print('Descision Tree')\n",
    "    dec_clf = DecisionTreeClassifier(criterion = 'entropy',random_state=random_state,class_weight = {0: sum(y_train)/len(y_train),1: 1 - sum(y_train)/len(y_train) }).fit(X_train, y_train) #0.5448,0.6003\n",
    "    oof_dec[test_index] = dec_clf.predict_proba(X_test)[:,1]\n",
    "    print('ROC DEC Score:',roc_auc_score(y_test,oof_dec[test_index]))\n",
    "    print('Random Forest')\n",
    "    rf_clf = RandomForestClassifier(n_estimators=100, max_depth=5,criterion = 'entropy',random_state=random_state,class_weight = {0: sum(y_train)/len(y_train),1: 1 - sum(y_train)/len(y_train) }).fit(X_train, y_train) #0.5448,0.6003\n",
    "    oof_rf[test_index] = rf_clf.predict_proba(X_test)[:,1]\n",
    "    print('ROC RF Score:',roc_auc_score(y_test,oof_rf[test_index]))\n",
    "    trn_data = lgb.Dataset(X_train, label=y_train)\n",
    "    val_data = lgb.Dataset(X_test, label=y_test)\n",
    "    lgb_clf = lgb.train(lgb_params,trn_data,100000,valid_sets = [trn_data, val_data],early_stopping_rounds=1000,verbose_eval = 1000)\n",
    "    oof_lgb[test_index] = lgb_clf.predict(X_test)\n",
    "    fold_importance_df = pd.DataFrame()\n",
    "    fold_importance_df[\"feature\"] = traincols\n",
    "    fold_importance_df[\"importance\"] = lgb_clf.feature_importance()\n",
    "    fold_importance_df[\"fold\"] = n\n",
    "    feature_importance_df = pd.concat([feature_importance_df, fold_importance_df], axis=0)    \n",
    "print('ROC LOG Score:',roc_auc_score(y,oof_log))#0.5448,0.6003\n",
    "print('ROC DEC Score:',roc_auc_score(y,oof_dec))#0.5263,0.5287\n",
    "print('ROC RF Score:',roc_auc_score(y,oof_rf))#0.6379\n",
    "print('ROC LGB Score:',roc_auc_score(y,oof_lgb))#0.6379"
   ]
  }
 ],
 "metadata": {
  "kernelspec": {
   "display_name": "Python 3",
   "language": "python",
   "name": "python3"
  },
  "language_info": {
   "codemirror_mode": {
    "name": "ipython",
    "version": 3
   },
   "file_extension": ".py",
   "mimetype": "text/x-python",
   "name": "python",
   "nbconvert_exporter": "python",
   "pygments_lexer": "ipython3",
   "version": "3.7.1"
  }
 },
 "nbformat": 4,
 "nbformat_minor": 2
}
